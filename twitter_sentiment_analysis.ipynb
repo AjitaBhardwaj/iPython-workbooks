{
 "cells": [
  {
   "cell_type": "markdown",
   "metadata": {
    "collapsed": true
   },
   "source": [
    "### Install and import all necessary libraries\n",
    "- pip install python-twitter\n"
   ]
  },
  {
   "cell_type": "code",
   "execution_count": 2,
   "metadata": {},
   "outputs": [],
   "source": [
    "#from twitter import Twitter, OAuth, TwitterHTTPError, TwitterStream\n",
    "import twitter\n",
    "import json"
   ]
  },
  {
   "cell_type": "markdown",
   "metadata": {},
   "source": [
    "### Get access tokens\n",
    "Access tokens are like user name and password combined in one long string. This string is used to authenticate a user or application accessing a service (twitter in this case).\n",
    "\n",
    "Twitter uses oAuth which is an open standard for authorization.\n",
    "\n",
    "**Steps to generate access tokens**\n",
    "- Open [https://apps.twitter.com/](https://apps.twitter.com/)\n",
    "- Click “Create New App”\n",
    "- Fill out the form, agree to the terms, and click “Create your Twitter application”\n",
    "- Click on “Keys and Access Tokens” tab, and copy your “API key” and “API secret”. \n",
    "- Scroll down and click “Create my access token”, and copy your “Access token” and “Access token secret”.\n",
    "- Access Level -> Read, write, and direct messages (modify app permissions)\n",
    "- https://apps.twitter.com/app/13519590/keys\n",
    "\n",
    "*API paremeters*\n",
    "- [http://socialmedia-class.org/assets/img/raffi-krikorian-map-of-a-tweet.png](http://socialmedia-class.org/assets/img/raffi-krikorian-map-of-a-tweet.png)"
   ]
  },
  {
   "cell_type": "code",
   "execution_count": 3,
   "metadata": {},
   "outputs": [],
   "source": [
    "# Variables that contains the user credentials to access Twitter API\n",
    "ACCESS_TOKEN = '113707618-Hcynv2DrvuSs7ZhDd4k3mjW3xrnIQspYqnX9fGZq'\n",
    "ACCESS_SECRET = '4dEvHrT7l6pIZbegTef8cOxpC3RkyWuOXoJXmGbJrtTXS'\n",
    "CONSUMER_KEY = 'cLMfRK5UwlxPEKSGtOHpIMCxO'\n",
    "CONSUMER_SECRET = 'c5fr8Ezh8iTGK2LD8fcMucUl70Tr3lA0rh737UhGVvgCwhB0oP'"
   ]
  },
  {
   "cell_type": "markdown",
   "metadata": {},
   "source": [
    "### Simple twitter streaming API access\n",
    "\n",
    "[tweetstream](https://pypi.python.org/pypi/tweetstream) is used to access Twitter’s streaming API.\n",
    "It provides these two classes\n",
    "- SampleStream - delivers a sample of all tweets\n",
    "- FilterStream - delivers tweets that match one or more criteria"
   ]
  },
  {
   "cell_type": "code",
   "execution_count": 6,
   "metadata": {},
   "outputs": [
    {
     "name": "stdout",
     "output_type": "stream",
     "text": [
      "{\"created_at\": \"Fri Feb 12 19:20:03 +0000 2010\", \"default_profile\": true, \"default_profile_image\": true, \"favourites_count\": 138, \"followers_count\": 29, \"friends_count\": 2, \"id\": 113707618, \"lang\": \"en\", \"name\": \"Gursimran singh\", \"profile_background_color\": \"C0DEED\", \"profile_background_image_url\": \"http://abs.twimg.com/images/themes/theme1/bg.png\", \"profile_image_url\": \"http://abs.twimg.com/sticky/default_profile_images/default_profile_3_normal.png\", \"profile_link_color\": \"1DA1F2\", \"profile_sidebar_fill_color\": \"DDEEF6\", \"profile_text_color\": \"333333\", \"screen_name\": \"simari3r\", \"status\": {\"created_at\": \"Mon Apr 16 07:04:49 +0000 2012\", \"id\": 191784191468388352, \"id_str\": \"191784191468388352\", \"lang\": \"en\", \"source\": \"<a href=\\\"https://dev.twitter.com/docs/tfw\\\" rel=\\\"nofollow\\\">Twitter for Websites</a>\", \"text\": \"Check out this awesome innovation! http://t.co/XLlZs0KP #accenture #innovationjockeys #yahoo #india\"}, \"statuses_count\": 2}\n"
     ]
    }
   ],
   "source": [
    "# Initiate the connection to Twitter Streaming API\n",
    "#twitter_stream = TwitterStream(auth=oauth)\n",
    "api = twitter.Api(consumer_key=CONSUMER_KEY,\n",
    "                  consumer_secret=CONSUMER_SECRET,\n",
    "                  access_token_key=ACCESS_TOKEN,\n",
    "                  access_token_secret=ACCESS_SECRET)\n",
    "print(api.VerifyCredentials())"
   ]
  },
  {
   "cell_type": "markdown",
   "metadata": {},
   "source": [
    "### Twitter Python API twitter-python\n",
    "\n",
    "- Detailed documenttaion [link](https://python-twitter.readthedocs.io/)\n",
    "- Twitter API documenttaion [link](https://dev.twitter.com/overview/documentation)\n",
    "\n",
    "**Things you can do with the API**\n",
    "- Get list of friends\n",
    "- Post an update on your account\n",
    "- Fetch all tweets of any user on your friend list"
   ]
  },
  {
   "cell_type": "code",
   "execution_count": 7,
   "metadata": {},
   "outputs": [
    {
     "name": "stdout",
     "output_type": "stream",
     "text": [
      "[u'Dave Gershgorn', u'TUSSAT']\n"
     ]
    }
   ],
   "source": [
    "# Get list of friends\n",
    "users = api.GetFriends()\n",
    "print([u.name for u in users])"
   ]
  },
  {
   "cell_type": "code",
   "execution_count": null,
   "metadata": {},
   "outputs": [],
   "source": [
    "#Post an update on twitter\n",
    "status = api.PostUpdate('#MLIndia')"
   ]
  },
  {
   "cell_type": "code",
   "execution_count": 12,
   "metadata": {},
   "outputs": [
    {
     "name": "stdout",
     "output_type": "stream",
     "text": [
      "Printing tweets for user Dave Gershgorn\n"
     ]
    },
    {
     "name": "stdout",
     "output_type": "stream",
     "text": [
      "[u'Check out this awesome innovation! http://t.co/XLlZs0KP #accenture #innovationjockeys #yahoo #india', u'Check out this awesome innovation! http://t.co/XLlZs0KP #accenture #innovationjockeys #yahoo #india']\n"
     ]
    }
   ],
   "source": [
    "# Print tweets for a given user\n",
    "user = users[0]\n",
    "print 'Printing tweets for user ' + str(user.name)\n",
    "statuses = api.GetUserTimeline(screen_name=user)\n",
    "print([s.text for s in statuses])"
   ]
  },
  {
   "cell_type": "markdown",
   "metadata": {},
   "source": [
    "### What else you can do with the library\n",
    "\n",
    "Some of methods include\n",
    "- GetStreamFilter - Returns a filtered view of public statuses.\n",
    "- GetStreamSample - Returns a small sample of public statuses.\n",
    "- GetTrendsCurrent - Get the current top trending topics (global)\n",
    "- GetUserTimeline(user) - Fetch the sequence of public Status messages for a single user.\n",
    "- GetHomeTimeline() - Fetch a collection of the most recent Tweets and retweets posted by the authenticating user and the users they follow.\n",
    "- GetFavorites - Return a list of Status objects representing favorited tweets.\n",
    "- GetHomeTimeline - Fetch a collection of the most recent Tweets and retweets posted by the authenticating user and the users they follow.\n",
    "- GetSearch - Return twitter search results for a given term. You must specify one of term, geocode, or raw_query.\n",
    "- GetTrendsWoeid - Return the top 10 trending topics for a specific WOEID, if trending information is available for it.\n",
    "\n",
    "Read this detailed list of mtheods here [link](https://python-twitter.readthedocs.io/en/latest/twitter.html#module-twitter.api)"
   ]
  },
  {
   "cell_type": "code",
   "execution_count": 13,
   "metadata": {},
   "outputs": [
    {
     "name": "stdout",
     "output_type": "stream",
     "text": [
      "[Status(ID=842732571091984384, ScreenName=davegershgorn, Created=Fri Mar 17 13:41:16 +0000 2017, Text=u\"Silicon Valley's open-source experiment is working: Meet the West Virginia teen who's teaching himself to build AI \\n\\nhttps://t.co/PuuVQ5GFHI\"), Status(ID=842731589989752835, ScreenName=davegershgorn, Created=Fri Mar 17 13:37:22 +0000 2017, Text=u'RT @alicetruong: Michael Murphy.'), Status(ID=842701309908258817, ScreenName=davegershgorn, Created=Fri Mar 17 11:37:03 +0000 2017, Text=u'this is more a critique of tech journalism than deepmind https://t.co/ohHtiQt2n6'), Status(ID=842701232972206084, ScreenName=davegershgorn, Created=Fri Mar 17 11:36:45 +0000 2017, Text=u\"the conceit of every tech journalist is that the person/company they're profiling is different. it's rarely true. https://t.co/tmprsjJTJg\"), Status(ID=842694674133520384, ScreenName=davegershgorn, Created=Fri Mar 17 11:10:41 +0000 2017, Text=u'looks more like Neapolitan to me! https://t.co/iwt4zUMufx'), Status(ID=842566068082298884, ScreenName=davegershgorn, Created=Fri Mar 17 02:39:39 +0000 2017, Text=u'RT @dril: if your grave doesnt say \"rest in peace\" on it you are automatically drafted into the skeleton war'), Status(ID=842547271120183296, ScreenName=davegershgorn, Created=Fri Mar 17 01:24:57 +0000 2017, Text=u'RT @Reza_Zadeh: Facebook releases an interesting competitor to TensorFlow/TensorBoard. Called Visdom. https://t.co/9PqOedXFJb Supports Torc\\u2026'), Status(ID=842516043511795713, ScreenName=davegershgorn, Created=Thu Mar 16 23:20:52 +0000 2017, Text=u'i have such a cool and nerdy AI story coming next week, very excited to share with you all'), Status(ID=842515626937802757, ScreenName=davegershgorn, Created=Thu Mar 16 23:19:13 +0000 2017, Text=u\"it's 30 feet deep https://t.co/KuH1X5HGs7\"), Status(ID=842514179210842113, ScreenName=davegershgorn, Created=Thu Mar 16 23:13:28 +0000 2017, Text=u'meeting up in 2017 https://t.co/2JhyJdq1xJ'), Status(ID=842478209174245377, ScreenName=davegershgorn, Created=Thu Mar 16 20:50:32 +0000 2017, Text=u'classic washington logic https://t.co/RqfVfNgE1U'), Status(ID=842443365274775557, ScreenName=davegershgorn, Created=Thu Mar 16 18:32:04 +0000 2017, Text=u'another day, another chihuahua spin around the sun https://t.co/ATnEICNezx'), Status(ID=842416401205850112, ScreenName=davegershgorn, Created=Thu Mar 16 16:44:56 +0000 2017, Text=u'SwatchOS https://t.co/xhm2ZLehFT'), Status(ID=842415536592035841, ScreenName=davegershgorn, Created=Thu Mar 16 16:41:29 +0000 2017, Text=u'TIL John Boyega and I are the same age https://t.co/06oSWqaUQV'), Status(ID=842413537364439041, ScreenName=davegershgorn, Created=Thu Mar 16 16:33:33 +0000 2017, Text=u'Absolutely fascinating OpenAI blog, on AI developing its own language\\n\\nhttps://t.co/P2TeyAJnT9\\n\\nPaper here:\\u2026 https://t.co/UxvkKn2mL8'), Status(ID=842408590229016576, ScreenName=davegershgorn, Created=Thu Mar 16 16:13:53 +0000 2017, Text=u'RT @sokane1: Believe it or not the answer is Capri Sun https://t.co/1gnSBu14Z1'), Status(ID=842401518208880641, ScreenName=davegershgorn, Created=Thu Mar 16 15:45:47 +0000 2017, Text=u'2015 paper also tackling catastrophic forgetting, via @PopSci article from @ossolalex\\n\\nhttps://t.co/q5KTeTsIiz\\n\\nhttps://t.co/1ZcEEU9MsY'), Status(ID=842382618901516288, ScreenName=davegershgorn, Created=Thu Mar 16 14:30:41 +0000 2017, Text=u\"my trash talk is really just trying to corral teens into playing a reasonable team comp so we don't lose\"), Status(ID=842381989034504193, ScreenName=davegershgorn, Created=Thu Mar 16 14:28:11 +0000 2017, Text=u'\"we don\\'t need 4 dps.\"\\n\\n\"somebody pls tank or heal\"\\n\\n\"we don\\'t need bastion on attack\"\\n\\non repeat, forever https://t.co/6N47KvjIAm')]\n"
     ]
    }
   ],
   "source": [
    "# fetch the home timeline\n",
    "print api.GetHomeTimeline()"
   ]
  },
  {
   "cell_type": "code",
   "execution_count": null,
   "metadata": {},
   "outputs": [],
   "source": [
    ""
   ]
  }
 ],
 "metadata": {
  "kernelspec": {
   "display_name": "Python 2",
   "language": "python",
   "name": "python2"
  },
  "language_info": {
   "codemirror_mode": {
    "name": "ipython",
    "version": 2.0
   },
   "file_extension": ".py",
   "mimetype": "text/x-python",
   "name": "python",
   "nbconvert_exporter": "python",
   "pygments_lexer": "ipython2",
   "version": "2.7.6"
  }
 },
 "nbformat": 4,
 "nbformat_minor": 0
}