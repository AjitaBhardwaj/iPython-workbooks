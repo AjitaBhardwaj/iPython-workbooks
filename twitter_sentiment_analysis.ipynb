{
 "cells": [
  {
   "cell_type": "markdown",
   "metadata": {
    "collapsed": true
   },
   "source": [
    "### Install and import all necessary libraries\n",
    "- pip install python-twitter\n"
   ]
  },
  {
   "cell_type": "code",
   "execution_count": 2,
   "metadata": {},
   "outputs": [],
   "source": [
    "#from twitter import Twitter, OAuth, TwitterHTTPError, TwitterStream\n",
    "import twitter\n",
    "import json"
   ]
  },
  {
   "cell_type": "markdown",
   "metadata": {},
   "source": [
    "### Get access tokens\n",
    "Access tokens are like user name and password combined in one long string. This string is used to authenticate a user or application accessing a service (twitter in this case).\n",
    "\n",
    "Twitter uses oAuth which is an open standard for authorization.\n",
    "\n",
    "**Steps to generate access tokens**\n",
    "- Open [https://apps.twitter.com/](https://apps.twitter.com/)\n",
    "- Click “Create New App”\n",
    "- Fill out the form, agree to the terms, and click “Create your Twitter application”\n",
    "- Click on “Keys and Access Tokens” tab, and copy your “API key” and “API secret”. \n",
    "- Scroll down and click “Create my access token”, and copy your “Access token” and “Access token secret”.\n",
    "- Access Level -> Read, write, and direct messages (modify app permissions)\n",
    "- https://apps.twitter.com/app/13519590/keys\n",
    "\n",
    "*API paremeters*\n",
    "- [http://socialmedia-class.org/assets/img/raffi-krikorian-map-of-a-tweet.png](http://socialmedia-class.org/assets/img/raffi-krikorian-map-of-a-tweet.png)"
   ]
  },
  {
   "cell_type": "code",
   "execution_count": 3,
   "metadata": {},
   "outputs": [],
   "source": [
    "# Variables that contains the user credentials to access Twitter API\n",
    "ACCESS_TOKEN = '113707618-Hcynv2DrvuSs7ZhDd4k3mjW3xrnIQspYqnX9fGZq'\n",
    "ACCESS_SECRET = '4dEvHrT7l6pIZbegTef8cOxpC3RkyWuOXoJXmGbJrtTXS'\n",
    "CONSUMER_KEY = 'cLMfRK5UwlxPEKSGtOHpIMCxO'\n",
    "CONSUMER_SECRET = 'c5fr8Ezh8iTGK2LD8fcMucUl70Tr3lA0rh737UhGVvgCwhB0oP'"
   ]
  },
  {
   "cell_type": "markdown",
   "metadata": {},
   "source": [
    "### Simple twitter streaming API access\n",
    "\n",
    "[tweetstream](https://pypi.python.org/pypi/tweetstream) is used to access Twitter’s streaming API.\n",
    "It provides these two classes\n",
    "- SampleStream - delivers a sample of all tweets\n",
    "- FilterStream - delivers tweets that match one or more criteria"
   ]
  },
  {
   "cell_type": "code",
   "execution_count": 6,
   "metadata": {},
   "outputs": [
    {
     "name": "stdout",
     "output_type": "stream",
     "text": [
      "{\"created_at\": \"Fri Feb 12 19:20:03 +0000 2010\", \"default_profile\": true, \"default_profile_image\": true, \"favourites_count\": 138, \"followers_count\": 29, \"friends_count\": 2, \"id\": 113707618, \"lang\": \"en\", \"name\": \"Gursimran singh\", \"profile_background_color\": \"C0DEED\", \"profile_background_image_url\": \"http://abs.twimg.com/images/themes/theme1/bg.png\", \"profile_image_url\": \"http://abs.twimg.com/sticky/default_profile_images/default_profile_3_normal.png\", \"profile_link_color\": \"1DA1F2\", \"profile_sidebar_fill_color\": \"DDEEF6\", \"profile_text_color\": \"333333\", \"screen_name\": \"simari3r\", \"status\": {\"created_at\": \"Mon Apr 16 07:04:49 +0000 2012\", \"id\": 191784191468388352, \"id_str\": \"191784191468388352\", \"lang\": \"en\", \"source\": \"<a href=\\\"https://dev.twitter.com/docs/tfw\\\" rel=\\\"nofollow\\\">Twitter for Websites</a>\", \"text\": \"Check out this awesome innovation! http://t.co/XLlZs0KP #accenture #innovationjockeys #yahoo #india\"}, \"statuses_count\": 2}\n"
     ]
    }
   ],
   "source": [
    "# Initiate the connection to Twitter Streaming API\n",
    "#twitter_stream = TwitterStream(auth=oauth)\n",
    "api = twitter.Api(consumer_key=CONSUMER_KEY,\n",
    "                  consumer_secret=CONSUMER_SECRET,\n",
    "                  access_token_key=ACCESS_TOKEN,\n",
    "                  access_token_secret=ACCESS_SECRET)\n",
    "print(api.VerifyCredentials())"
   ]
  },
  {
   "cell_type": "markdown",
   "metadata": {},
   "source": [
    "### Twitter Python API twitter-python\n",
    "\n",
    "- Detailed documenttaion [link](https://python-twitter.readthedocs.io/)\n",
    "- Twitter API documenttaion [link](https://dev.twitter.com/overview/documentation)\n",
    "\n",
    "**Things you can do with the API**\n",
    "- Get list of friends\n",
    "- Post an update on your account\n",
    "- Fetch all tweets of any user on your friend list"
   ]
  },
  {
   "cell_type": "code",
   "execution_count": 7,
   "metadata": {},
   "outputs": [
    {
     "name": "stdout",
     "output_type": "stream",
     "text": [
      "[u'Dave Gershgorn', u'TUSSAT']\n"
     ]
    }
   ],
   "source": [
    "# Get list of friends\n",
    "users = api.GetFriends()\n",
    "print([u.name for u in users])"
   ]
  },
  {
   "cell_type": "code",
   "execution_count": null,
   "metadata": {},
   "outputs": [],
   "source": [
    "#Post an update on twitter\n",
    "status = api.PostUpdate('#MLIndia')"
   ]
  },
  {
   "cell_type": "code",
   "execution_count": 12,
   "metadata": {},
   "outputs": [
    {
     "name": "stdout",
     "output_type": "stream",
     "text": [
      "Printing tweets for user Dave Gershgorn\n"
     ]
    },
    {
     "name": "stdout",
     "output_type": "stream",
     "text": [
      "[u'Check out this awesome innovation! http://t.co/XLlZs0KP #accenture #innovationjockeys #yahoo #india', u'Check out this awesome innovation! http://t.co/XLlZs0KP #accenture #innovationjockeys #yahoo #india']\n"
     ]
    }
   ],
   "source": [
    "# Print tweets for a given user\n",
    "user = users[0]\n",
    "print 'Printing tweets for user ' + str(user.name)\n",
    "statuses = api.GetUserTimeline(screen_name=user)\n",
    "print([s.text for s in statuses])"
   ]
  },
  {
   "cell_type": "markdown",
   "metadata": {},
   "source": [
    "### What else you can do with the library\n",
    "\n",
    "Some of methods include\n",
    "- GetStreamFilter - Returns a filtered view of public statuses.\n",
    "- GetStreamSample - Returns a small sample of public statuses.\n",
    "- GetTrendsCurrent - Get the current top trending topics (global)\n",
    "- GetUserTimeline(user) - Fetch the sequence of public Status messages for a single user.\n",
    "- GetHomeTimeline() - Fetch a collection of the most recent Tweets and retweets posted by the authenticating user and the users they follow.\n",
    "- GetFavorites - Return a list of Status objects representing favorited tweets.\n",
    "- GetHomeTimeline - Fetch a collection of the most recent Tweets and retweets posted by the authenticating user and the users they follow.\n",
    "- GetSearch - Return twitter search results for a given term. You must specify one of term, geocode, or raw_query.\n",
    "- GetTrendsWoeid - Return the top 10 trending topics for a specific WOEID, if trending information is available for it.\n",
    "\n",
    "Read this detailed list of mtheods here [link](https://python-twitter.readthedocs.io/en/latest/twitter.html#module-twitter.api)"
   ]
  },
  {
   "cell_type": "code",
   "execution_count": 13,
   "metadata": {},
   "outputs": [
    {
     "name": "stdout",
     "output_type": "stream",
     "text": [
      "[Status(ID=842732571091984384, ScreenName=davegershgorn, Created=Fri Mar 17 13:41:16 +0000 2017, Text=u\"Silicon Valley's open-source experiment is working: Meet the West Virginia teen who's teaching himself to build AI \\n\\nhttps://t.co/PuuVQ5GFHI\"), Status(ID=842731589989752835, ScreenName=davegershgorn, Created=Fri Mar 17 13:37:22 +0000 2017, Text=u'RT @alicetruong: Michael Murphy.'), Status(ID=842701309908258817, ScreenName=davegershgorn, Created=Fri Mar 17 11:37:03 +0000 2017, Text=u'this is more a critique of tech journalism than deepmind https://t.co/ohHtiQt2n6'), Status(ID=842701232972206084, ScreenName=davegershgorn, Created=Fri Mar 17 11:36:45 +0000 2017, Text=u\"the conceit of every tech journalist is that the person/company they're profiling is different. it's rarely true. https://t.co/tmprsjJTJg\"), Status(ID=842694674133520384, ScreenName=davegershgorn, Created=Fri Mar 17 11:10:41 +0000 2017, Text=u'looks more like Neapolitan to me! https://t.co/iwt4zUMufx'), Status(ID=842566068082298884, ScreenName=davegershgorn, Created=Fri Mar 17 02:39:39 +0000 2017, Text=u'RT @dril: if your grave doesnt say \"rest in peace\" on it you are automatically drafted into the skeleton war'), Status(ID=842547271120183296, ScreenName=davegershgorn, Created=Fri Mar 17 01:24:57 +0000 2017, Text=u'RT @Reza_Zadeh: Facebook releases an interesting competitor to TensorFlow/TensorBoard. Called Visdom. https://t.co/9PqOedXFJb Supports Torc\\u2026'), Status(ID=842516043511795713, ScreenName=davegershgorn, Created=Thu Mar 16 23:20:52 +0000 2017, Text=u'i have such a cool and nerdy AI story coming next week, very excited to share with you all'), Status(ID=842515626937802757, ScreenName=davegershgorn, Created=Thu Mar 16 23:19:13 +0000 2017, Text=u\"it's 30 feet deep https://t.co/KuH1X5HGs7\"), Status(ID=842514179210842113, ScreenName=davegershgorn, Created=Thu Mar 16 23:13:28 +0000 2017, Text=u'meeting up in 2017 https://t.co/2JhyJdq1xJ'), Status(ID=842478209174245377, ScreenName=davegershgorn, Created=Thu Mar 16 20:50:32 +0000 2017, Text=u'classic washington logic https://t.co/RqfVfNgE1U'), Status(ID=842443365274775557, ScreenName=davegershgorn, Created=Thu Mar 16 18:32:04 +0000 2017, Text=u'another day, another chihuahua spin around the sun https://t.co/ATnEICNezx'), Status(ID=842416401205850112, ScreenName=davegershgorn, Created=Thu Mar 16 16:44:56 +0000 2017, Text=u'SwatchOS https://t.co/xhm2ZLehFT'), Status(ID=842415536592035841, ScreenName=davegershgorn, Created=Thu Mar 16 16:41:29 +0000 2017, Text=u'TIL John Boyega and I are the same age https://t.co/06oSWqaUQV'), Status(ID=842413537364439041, ScreenName=davegershgorn, Created=Thu Mar 16 16:33:33 +0000 2017, Text=u'Absolutely fascinating OpenAI blog, on AI developing its own language\\n\\nhttps://t.co/P2TeyAJnT9\\n\\nPaper here:\\u2026 https://t.co/UxvkKn2mL8'), Status(ID=842408590229016576, ScreenName=davegershgorn, Created=Thu Mar 16 16:13:53 +0000 2017, Text=u'RT @sokane1: Believe it or not the answer is Capri Sun https://t.co/1gnSBu14Z1'), Status(ID=842401518208880641, ScreenName=davegershgorn, Created=Thu Mar 16 15:45:47 +0000 2017, Text=u'2015 paper also tackling catastrophic forgetting, via @PopSci article from @ossolalex\\n\\nhttps://t.co/q5KTeTsIiz\\n\\nhttps://t.co/1ZcEEU9MsY'), Status(ID=842382618901516288, ScreenName=davegershgorn, Created=Thu Mar 16 14:30:41 +0000 2017, Text=u\"my trash talk is really just trying to corral teens into playing a reasonable team comp so we don't lose\"), Status(ID=842381989034504193, ScreenName=davegershgorn, Created=Thu Mar 16 14:28:11 +0000 2017, Text=u'\"we don\\'t need 4 dps.\"\\n\\n\"somebody pls tank or heal\"\\n\\n\"we don\\'t need bastion on attack\"\\n\\non repeat, forever https://t.co/6N47KvjIAm')]\n"
     ]
    }
   ],
   "source": [
    "# fetch the home timeline\n",
    "print api.GetHomeTimeline()"
   ]
  },
  {
   "cell_type": "code",
   "execution_count": 24,
   "metadata": {},
   "outputs": [],
   "source": [
    ""
   ]
  },
  {
   "cell_type": "markdown",
   "metadata": {},
   "source": [
    "### Install the libraries required for sentiment analysis\n",
    "- pip install textblob\n",
    "- python -m textblob.download_corpora\n",
    "\n",
    "TextBlob is actually a high level library built over top of NLTK library. First we call clean_tweet method to remove links, special characters, etc. from the tweet using some simple regex.\n",
    "Then, as we pass tweet to create a TextBlob object, following processing is done over text by textblob library:\n",
    "\n",
    "Tokenize the tweet ,i.e split words from body of text.\n",
    "Remove stopwords from the tokens.(stopwords are the commonly used words which are irrelevant in text analysis like I, am, you, are, etc.)\n",
    "Do POS( part of speech) tagging of the tokens and select only significant features/tokens like adjectives, adverbs, etc.\n",
    "Pass the tokens to a sentiment classifier which classifies the tweet sentiment as positive, negative or neutral by assigning it a polarity between -1.0 to 1.0 .\n",
    "Here is how sentiment classifier is created:\n",
    "\n",
    "TextBlob uses a Movies Reviews dataset in which reviews have already been labelled as positive or negative.\n",
    "Positive and negative features are extracted from each positive and negative review respectively.\n",
    "Training data now consists of labelled positive and negative features. This data is trained on a Naive Bayes Classifier.\n",
    "Then, we use sentiment.polarity method of TextBlob class to get the polarity of tweet between -1 to 1.\n",
    "Then, we classify polarity as:"
   ]
  },
  {
   "cell_type": "code",
   "execution_count": 28,
   "metadata": {},
   "outputs": [],
   "source": [
    "import re\n",
    "from textblob import TextBlob\n",
    "\n",
    "def clean_tweet(tweet):\n",
    "    '''\n",
    "    Utility function to clean tweet text by removing links, special characters\n",
    "    using simple regex statements.\n",
    "    '''\n",
    "    return ' '.join(re.sub(\"(@[A-Za-z0-9]+)|([^0-9A-Za-z \\t]) |(\\w+:\\/\\/\\S+)\", \" \", tweet).split())\n",
    "\n",
    "def get_tweet_sentiment(tweet):\n",
    "    '''\n",
    "    Utility function to classify sentiment of passed tweet\n",
    "    using textblob's sentiment method\n",
    "    '''\n",
    "    # create TextBlob object of passed tweet text\n",
    "    analysis = TextBlob(clean_tweet(tweet))\n",
    "    # set sentiment\n",
    "    if analysis.sentiment.polarity > 0:\n",
    "        return 'positive'\n",
    "    elif analysis.sentiment.polarity == 0:\n",
    "        return 'neutral'\n",
    "    else:\n",
    "        return 'negative'"
   ]
  },
  {
   "cell_type": "code",
   "execution_count": 29,
   "metadata": {},
   "outputs": [
    {
     "name": "stdout",
     "output_type": "stream",
     "text": [
      "100\n4548\nBREAKING: NSA Documents Prove Surveillance of Donald Trump and Alex Jones https://t.co/pnyWvi7uLq\nneutral\n8132\nFor someone who talked about draining the swamp and standing up to Wall Street, Trump has a funny way of doing so.\nhttps://t.co/RLEAWSV3wv\npositive\n3020\nI've tracked Russia's global disinformation network for 2 decades. Putin's lie machine now includes the White House.\nhttps://t.co/WyxZhc7lyP\nneutral\n0\n'No, we don't owe NATO money' - Germany's defense minister tells Donald Trump https://t.co/rjE08JoPh8\nneutral\n0\n#africa #tech \nAmong the most eye-catching aspects of US president Donald Trump’s first budget, released last week… https://t.co/E5IyWyXEIc\npositive\n0\nRT @MeralitaRTE: Donald J. Trump appears to ignore requests for a handshake with Angela Merkel during their first meeting.\nHandshake😂😂\nTrum…\npositive\n0\nRT @johnfund: The late columnist Jimmy Breslin on Donald Trump's Rise in New York. The Art of the Steal.  https://t.co/5D8yJseK6I via @News…\nnegative\n0\nRT @RealAlexJones: BREAKING: NSA Documents Prove Surveillance of Donald Trump and Alex Jones https://t.co/EtjpBpFTqa\nneutral\n0\n#British #Ambassador warns @realDonaldTrump \"peddling: https://t.co/Xb35XcoS11, https://t.co/xkcZ34RBoH https://t.co/dOaKqXNOwT\nneutral\n0\nRT @lindaikeji: 'No, we don't owe NATO money' - Germany's defense minister tells Donald Trump https://t.co/nhvVPwfWWc\nneutral\n0\nMcDonald's says its #Twitter account was \"compromised\". https://t.co/roe8ztmooM\nneutral\n0\nRT @JackDRunyan: That \"This election is a choice between Donald Trump &amp; Goldman Sachs\" take from Snowden is looking like one of the worst t…\nnegative\n0\nRT @voxdotcom: The GOP health care bill does literally none of the things Trump says it does: https://t.co/vWJQeLDKFK\nneutral\n1\nPresidenta Bachelet recibe llamado de Donald Trump con el foco en Venezuela → https://t.co/9tXEi9UcJr https://t.co/ZZkwPo5ZSW\nneutral\n0\nMeritocracy: the great delusion that ingrains inequality | by @littler_jo #auspol #neoliberal https://t.co/GNqSQA1NrB\npositive\n0\nImmediately after the election Donald J. Trump's transition spokesman Jason Miller explained that Melania would... https://t.co/4HpNBxIjJ3\nneutral\n0\nFreedom of expression:\nhttps://t.co/aQA0WQPB6A\nneutral\n0\nGermany rejects Trump's claim that it 'owes vast sums' to NATO, U.S. https://t.co/ebQlBf1Ths via @nbcnews\nneutral\n0\nRT @NewYorker: Until Donald Trump came along there hadn’t been a truly embarrassing Presidency: https://t.co/Y5z6ng9wIT https://t.co/0tzSJJ…\nneutral\n0\nRT @neighbour_s: While @POTUS Donald Trump dismisses climate change as a 'hoax', Pentagon veterans warn of its impact on global security, t…\nneutral\n0\nRT @LindaSuhler: 🇺🇸President Donald J. Trump Rally TOMORROW!\n💥Louisville, KY\n3/20, 7:30 PM EST\n#AmericaFirst🇺🇸 #Kentucky #MAGA \nReg:\nhttps:…\nneutral\n0\nRT @PalmerReport: What to expect from tomorrow’s House Intel Committee hearings on Donald Trump and Russia https://t.co/bgGba1KT2V\nneutral\n0\nAs looming famine threatens 20 million people in four countries, Donald Trump is slashing humanitarian aid https://t.co/r7wnJsCNx6\nneutral\n0\nFinancial Express: #NorthKorean leader acting very badly: #DonaldTrump https://t.co/vzJHpyk2fi…… https://t.co/drK2Dv34c1\nnegative\n0\nRT @NewYorker: Until Donald Trump came along there hadn’t been a truly embarrassing Presidency: https://t.co/Y5z6ng9wIT https://t.co/0tzSJJ…\nneutral\n0\nRT @TheDailyShow: Tonight at 11/10c, have you ever argued with a toddler? Apply that experience to dealing with Donald Trump. https://t.co/…\nneutral\n0\nRT @mikandynothem: Lord, we pray for President Donald J. Trump. Please hold him up and give him strength and wisdom. In Jesus name. Amen.\n#…\nneutral\n0\nhttps://t.co/7Sggav677G\nneutral\n0\nhttps://t.co/dhiDZtRTLI\nneutral\n0\nSURPRISE! SURPRISE! SURPRISE! PRESIDENT DONALD J. TRUMP https://t.co/qKaXU3ONo5\nneutral\n0\nSo I'm Just Gonna Say It. I'm Not A Fan Of Donald Trump\nneutral\n0\nRT @matthaig1: Stephen Hawking fears he may not be welcome in Donald Trump's US.  https://t.co/9cQPwvFaFJ\npositive\n0\nRT @LeoAuteur: Impressionnant - En 33 jours, #Trump a menti ou prononcé des affirmations trompeuses à 132 reprises https://t.co/rc1iepUQBM\nneutral\n0\nRT @justice4daniel: Stephen Hawking: I fear I may not be welcome in Donald Trump's US https://t.co/WG00cEtN7m\npositive\n0\nRT @DonaldTrump_FR: Une bandeau de soutien à #Marine #LePen se propage chez les supporters US de Donald #Trump\n\nUn Raid Twitter aurait lieu…\nneutral\n0\nRT @dumbassgenius: Angela Merkel has a PhD in quantum chemistry.\nDonald Trump misspelled \"tap.\"\nNot exactly a meeting of the minds. https:/…\nnegative\n0\nRT @JamesMelville: Irish PM Enda Kenny stands up for immigration and stands up to Donald Trump.\nhttps://t.co/aLYdFY2hR8\nneutral\n0\nRT @voxdotcom: The GOP health care bill does literally none of the things Trump says it does: https://t.co/vWJQeLDKFK\nneutral\n0\nRT @adamshermanesq: \"Trump..senses..the insecurity of people, that nobody knows whether anything is good or bad until they are told..\"\n\nhtt…\npositive\n0\nRT @sarahkendzior: This is how the NYT Donald Trump Jr puff piece described him taking 50K to schmooze with Putin and Assad sympathizers at…\nneutral\n0\nRT @ReaIJamesBrown: While reaching its peak with the election of Donald Trump, Sesame Street continues the recent trend of making #autism t…\nneutral\n0\nWatch This Video and Learn How To Defeat Donald Trump's Handshake https://t.co/c8m93ZAe55 #Humor ?\nneutral\n0\nRT @RegSprecher: Ankunft am @WhiteHouse: Kanzlerin #Merkel wird von @POTUS Donald Trump begrüßt. (BPA) https://t.co/C7P4inwdaW\nneutral\n0\nEven the Pentagon knows that Climate Change is a thing https://t.co/hsOHfehX1h\nneutral\n0\nRT @guardian: Meritocracy: the great delusion that ingrains inequality | Jo Littler https://t.co/WeMQ0wAWgk\npositive\n0\nRT @kitlovelace: Donald Trump Jr sits like he's wearing one of those emu-riding fancy dress costumes – but he never actually is... https://…\nneutral\n1\nDonald #Trump's #presidency got off to a bloody start in #January when a special operations forces raid against... https://t.co/Jlbc1psELO\nnegative\n0\nRT @neighbour_s: While @POTUS Donald Trump dismisses climate change as a 'hoax', Pentagon veterans warn of its impact on global security, t…\nneutral\n0\n@FoxNews this is one of the many reasons why I hate Donald Trump. YG said it best in his FDT song.\npositive\n0\ndonald trump's hair\n\nnvm just donald trump in general\npositive\n0\n@AllIndiaBakchod Donald Trump\nneutral\n0\nDonald Trump: America's Marie Antoinette https://t.co/TTT6wR1jYk\nneutral\n0\nRT @JuddLegum: 1. Here is a story that should legitimately freak out Donald Trump https://t.co/vsood880QL\nneutral\n0\nFBI Director Comey to testify on Captiol Hill: The saga of President Donald Trump's claims… https://t.co/g7nzuMPgQ5\nneutral\n1\nAs a denier, Donald Trump doesn't have a strategy for #ClimateChange, nor the intelligence to admit he's wrong.\n#4Corners\nnegative\n0\nRT @spectatorindex: IMAGE: Photo from joint press conference with Donald Trump and Angela Merkel https://t.co/rH5vBWT5mq\nneutral\n0\nRT @MichaelSkolnik: Trump wants to fire 3200 people at the EPA. \n\nIf Melania lived with Donald, we would save every single one of those job…\npositive\n0\nRT @dleemar: .NYPD says #Republican Trump's budget cuts leave new york vulnerable to terror https://t.co/4twlRK1fA9 #Resist\nnegative\n0\nRT @JasonLeopold: How a group of liberals got duped into paying $9,000 for fake documents they thought would end Trump’s presidency. https:…\nnegative\n0\nRT @adamshermanesq: \"Trump..senses..the insecurity of people, that nobody knows whether anything is good or bad until they are told..\"\n\nhtt…\npositive\n0\nRT @JackPosobiec: Donald Trump and Chuck Berry https://t.co/AmrUcE7jM5\nneutral\n0\nRT @Independent: Donald Trump Junior posed on a tree stump and nobody’s quite sure why https://t.co/ofeX436HT5\npositive\n0\nChelsea Handler Crushes Donald Trump With Single Picture,..;;,\n\nhttps://t.co/hR5jOIPlDc\nnegative\n0\nChelsea Handler Crushes Donald Trump With Single Picture,..;;,\n\nhttps://t.co/FdBvTjyQOt\nnegative\n0\nChelsea Handler Crushes Donald Trump With Single Picture,..;;,\n\nhttps://t.co/0aIWm9jGYF\nnegative\n0\nChelsea Handler Crushes Donald Trump With Single Picture,..;;,\n\nhttps://t.co/QeKc1VvdtC\nnegative\n0\nChelsea Handler Crushes Donald Trump With Single Picture,..;;,\n\nhttps://t.co/reyW2UjHXz\nnegative\n0\nChelsea Handler Crushes Donald Trump With Single Picture,..;;,\n\nhttps://t.co/FaCbST5vJR\nnegative\n0\nChelsea Handler Crushes Donald Trump With Single Picture,..;;,\n\nhttps://t.co/DySLV8Br3n\nnegative\n0\nChelsea Handler Crushes Donald Trump With Single Picture,..;;,\n\nhttps://t.co/ufQLgvf1k3\nnegative\n0\nChelsea Handler Crushes Donald Trump With Single Picture,..;;,\n\nhttps://t.co/p70TQq7aVv\nnegative\n0\nChelsea Handler Crushes Donald Trump With Single Picture,..;;,\n\nhttps://t.co/WezerO6okQ\nnegative\n0\nChelsea Handler Crushes Donald Trump With Single Picture,..;;,\n\nhttps://t.co/DeKf0L7GQf\nnegative\n0\nChelsea Handler Crushes Donald Trump With Single Picture,..;;,\n\nhttps://t.co/RJeDqH8Jok\nnegative\n0\nJake Tapper openly contemptuous of Donald Trump shock? He is joined by most the world. Congenital liars always attract contempt.\npositive\n0\nUntil Donald Trump came along there hadn’t been a truly embarrassing Presidency: https://t.co/8GxIMR684r by… https://t.co/JpeygKr21A\nneutral\n0\nRT @guardian: Meritocracy: the great delusion that ingrains inequality | Jo Littler https://t.co/WeMQ0wAWgk\npositive\n0\n⒍ Saison\n⒎ Merkel\n⒏ Katze\n⒐ Zeiten\n⒑ Donald Trump\n\n2017/3/20 10:37 CET #trndnl https://t.co/72WnkVYtUD\nneutral\n0\nUna ciudad albanesa dedica una calle a Donald Trump https://t.co/6p43pyQB5F https://t.co/LMtvj6P86h\nneutral\n2\n'No, we don't owe NATO money' - Germany's defense minister tells Donald Trump https://t.co/nhvVPwfWWc\nneutral\n0\nRT @20committee: I've tracked Russia's global disinformation network for 2 decades. Putin's lie machine now includes the White House.\nhttps…\nneutral\n0\nSteve, please have several seats with your \"don't upset the Master\"- bullshit.  https://t.co/5glhFUXLM4\nneutral\n0\nInteresting but I think misguided to wish for \"A leader of the Free World\"  Firstly the concept of one person as... https://t.co/y5xpDCPok7\npositive\n0\nRT @RachelRGonzalez: Tomorrow Sally Yates the hero who blocked the Muslim ban is testifying in court on Donald Trump's ties to Russia. #ImW…\nneutral\n0\nRT @DanaSchwartzzz: Fun reminder that Angela Merkel has a degree in physics &amp; a PhD in quantum chemistry and now she has to work with Donal…\npositive\n0\nRT @sunny_hundal: Long before Trump and his clones in Europe got near power, right-wing populism already had a pioneer, in India. Me👇🏽\nhttp…\npositive\n0\nRT @JackPosobiec: Donald Trump and Chuck Berry https://t.co/AmrUcE7jM5\nneutral\n0\nRT @spectatorindex: IMAGE: Photo from joint press conference with Donald Trump and Angela Merkel https://t.co/rH5vBWT5mq\nneutral\n0\nRT @FoxNews: .@GovMikeHuckabee says it's time people claiming to \"resist\" @POTUS accept the results of the 2016 election. https://t.co/4Jya…\nneutral\n0\nRT @samatlounge: What the meeting between Boris Johnson and Donald Trump will look like. https://t.co/hWGoDQJH3D\nneutral\n0\nRT @KTNKenya: US President Donald Trump locks Africa out of UN business summit https://t.co/c8huu4NTVx https://t.co/EtzawCoblr\nneutral\n1\nJ.K. Rowling Burns Donald Trump in 3 Magical Tweets;'.;..\n\nhttps://t.co/5R18F5ROQr\npositive\n0\nJ.K. Rowling Burns Donald Trump in 3 Magical Tweets;'.;..\n\nhttps://t.co/4VH5oWdOcB\npositive\n0\nJ.K. Rowling Burns Donald Trump in 3 Magical Tweets;'.;..\n\nhttps://t.co/yp4hovAiSP\npositive\n0\nJ.K. Rowling Burns Donald Trump in 3 Magical Tweets;'.;..\n\nhttps://t.co/OPR9eaHDVt\npositive\n0\nJ.K. Rowling Burns Donald Trump in 3 Magical Tweets;'.;..\n\nhttps://t.co/VmvRwWg79u\npositive\n0\nJ.K. Rowling Burns Donald Trump in 3 Magical Tweets;'.;..\n\nhttps://t.co/xsvU7arM4r\npositive\n0\nJ.K. Rowling Burns Donald Trump in 3 Magical Tweets;'.;..\n\nhttps://t.co/VVZ8mXMwaz\npositive\n0\nJ.K. Rowling Burns Donald Trump in 3 Magical Tweets;'.;..\n\nhttps://t.co/73vBMddtOI\npositive\n0\nJ.K. Rowling Burns Donald Trump in 3 Magical Tweets;'.;..\n\nhttps://t.co/aHYfvNrVPx\npositive\n"
     ]
    }
   ],
   "source": [
    "results = api.GetSearch(term='Donald Trump', count = 100)\n",
    "print len(results)\n",
    "for result in results:\n",
    "    favourite_count = result.favorite_count\n",
    "    retweet_count = result.retweet_count\n",
    "    source = result.source\n",
    "    text = result.text\n",
    "    urls = result.urls\n",
    "    \n",
    "    print favourite_count\n",
    "    print text\n",
    "    print get_tweet_sentiment(text)"
   ]
  },
  {
   "cell_type": "code",
   "execution_count": null,
   "metadata": {},
   "outputs": [],
   "source": [
    ""
   ]
  }
 ],
 "metadata": {
  "kernelspec": {
   "display_name": "Python 2",
   "language": "python",
   "name": "python2"
  },
  "language_info": {
   "codemirror_mode": {
    "name": "ipython",
    "version": 2.0
   },
   "file_extension": ".py",
   "mimetype": "text/x-python",
   "name": "python",
   "nbconvert_exporter": "python",
   "pygments_lexer": "ipython2",
   "version": "2.7.6"
  }
 },
 "nbformat": 4,
 "nbformat_minor": 0
}