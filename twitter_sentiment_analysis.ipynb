{
 "cells": [
  {
   "cell_type": "markdown",
   "metadata": {},
   "source": [
    "This is an IPython notebook. \n",
    "- It contains cells which may have text/ code\n",
    "- Each cell has code which can be run independently from what is run in other cells. \n",
    "- Once a cell is run the variables etc are kept and saved and not destroyed from the memory.\n",
    "- You can run a cell using Shift+Enter\n",
    "- You can add a cell by using the + icon above\n",
    "- Try playing around with the cells below it\n",
    "- Exercise - print 'I'm learning ipython' in a new cell below the a=1 cell."
   ]
  },
  {
   "cell_type": "code",
   "execution_count": null,
   "metadata": {},
   "outputs": [],
   "source": [
    "print a"
   ]
  },
  {
   "cell_type": "code",
   "execution_count": null,
   "metadata": {},
   "outputs": [],
   "source": [
    "a = 1\n",
    "\n",
    "# now go back and the run the first cell. \n",
    "# To run a cell, click inside the cell and press Shift + Enter"
   ]
  },
  {
   "cell_type": "markdown",
   "metadata": {
    "collapsed": true
   },
   "source": [
    "### Install and import all necessary libraries\n",
    "- pip install python-twitter\n",
    "- pip install plotly\n"
   ]
  },
  {
   "cell_type": "code",
   "execution_count": 146,
   "metadata": {},
   "outputs": [],
   "source": [
    "#from twitter import Twitter, OAuth, TwitterHTTPError, TwitterStream\n",
    "import twitter\n",
    "import json\n",
    "import pandas as pd\n",
    "import base64\n",
    "import plotly.plotly as py\n",
    "from plotly.graph_objs import *"
   ]
  },
  {
   "cell_type": "markdown",
   "metadata": {},
   "source": [
    "### Get access tokens\n",
    "Access tokens are like user name and password combined in one long string. This string is used to authenticate a user or application accessing a service (twitter in this case).\n",
    "\n",
    "Twitter uses oAuth which is an open standard for authorization.\n",
    "\n",
    "**Steps to generate access tokens**\n",
    "- Open [https://apps.twitter.com/](https://apps.twitter.com/)\n",
    "- Click “Create New App”\n",
    "- Fill out the form, agree to the terms, and click “Create your Twitter application”\n",
    "- Click on “Keys and Access Tokens” tab, and copy your “API key” and “API secret”. \n",
    "- Scroll down and click “Create my access token”, and copy your “Access token” and “Access token secret”.\n",
    "- Access Level -> Read, write, and direct messages (modify app permissions)\n",
    "- https://apps.twitter.com/app/13519590/keys\n",
    "\n",
    "*API paremeters*\n",
    "- [http://socialmedia-class.org/assets/img/raffi-krikorian-map-of-a-tweet.png](http://socialmedia-class.org/assets/img/raffi-krikorian-map-of-a-tweet.png)"
   ]
  },
  {
   "cell_type": "code",
   "execution_count": 3,
   "metadata": {},
   "outputs": [],
   "source": [
    "# Variables that contains the user credentials to access Twitter API\n",
    "ACCESS_TOKEN = '113707618-Hcynv2DrvuSs7ZhDd4k3mjW3xrnIQspYqnX9fGZq'\n",
    "ACCESS_SECRET = '4dEvHrT7l6pIZbegTef8cOxpC3RkyWuOXoJXmGbJrtTXS'\n",
    "CONSUMER_KEY = 'cLMfRK5UwlxPEKSGtOHpIMCxO'\n",
    "CONSUMER_SECRET = 'c5fr8Ezh8iTGK2LD8fcMucUl70Tr3lA0rh737UhGVvgCwhB0oP'"
   ]
  },
  {
   "cell_type": "markdown",
   "metadata": {},
   "source": [
    "### Setup twitter api using python\n",
    "\n",
    "[python-twiter](https://github.com/bear/python-twitter) is a pure python interface to access Twitter API.\n",
    "It provides these two classes\n",
    "- SampleStream - delivers a sample of all tweets\n",
    "- FilterStream - delivers tweets that match one or more criteria"
   ]
  },
  {
   "cell_type": "code",
   "execution_count": 6,
   "metadata": {},
   "outputs": [
    {
     "name": "stdout",
     "output_type": "stream",
     "text": [
      "{\"created_at\": \"Fri Feb 12 19:20:03 +0000 2010\", \"default_profile\": true, \"default_profile_image\": true, \"favourites_count\": 138, \"followers_count\": 29, \"friends_count\": 2, \"id\": 113707618, \"lang\": \"en\", \"name\": \"Gursimran singh\", \"profile_background_color\": \"C0DEED\", \"profile_background_image_url\": \"http://abs.twimg.com/images/themes/theme1/bg.png\", \"profile_image_url\": \"http://abs.twimg.com/sticky/default_profile_images/default_profile_3_normal.png\", \"profile_link_color\": \"1DA1F2\", \"profile_sidebar_fill_color\": \"DDEEF6\", \"profile_text_color\": \"333333\", \"screen_name\": \"simari3r\", \"status\": {\"created_at\": \"Mon Apr 16 07:04:49 +0000 2012\", \"id\": 191784191468388352, \"id_str\": \"191784191468388352\", \"lang\": \"en\", \"source\": \"<a href=\\\"https://dev.twitter.com/docs/tfw\\\" rel=\\\"nofollow\\\">Twitter for Websites</a>\", \"text\": \"Check out this awesome innovation! http://t.co/XLlZs0KP #accenture #innovationjockeys #yahoo #india\"}, \"statuses_count\": 2}\n"
     ]
    }
   ],
   "source": [
    "# Initiate the connection to Twitter Streaming API\n",
    "#twitter_stream = TwitterStream(auth=oauth)\n",
    "api = twitter.Api(consumer_key=CONSUMER_KEY,\n",
    "                  consumer_secret=CONSUMER_SECRET,\n",
    "                  access_token_key=ACCESS_TOKEN,\n",
    "                  access_token_secret=ACCESS_SECRET)\n",
    "print(api.VerifyCredentials())"
   ]
  },
  {
   "cell_type": "markdown",
   "metadata": {},
   "source": [
    "### Twitter Python API twitter-python\n",
    "\n",
    "- Detailed documentation [link](https://python-twitter.readthedocs.io/)\n",
    "- Twitter API documenttaion [link](https://dev.twitter.com/overview/api)\n",
    "\n",
    "**Things you can do with the API**\n",
    "- Get list of friends\n",
    "- Post an update on your account\n",
    "- Fetch all tweets of any user on your friend list"
   ]
  },
  {
   "cell_type": "code",
   "execution_count": 7,
   "metadata": {},
   "outputs": [
    {
     "name": "stdout",
     "output_type": "stream",
     "text": [
      "[u'Dave Gershgorn', u'TUSSAT']\n"
     ]
    }
   ],
   "source": [
    "# Get list of friends\n",
    "users = api.GetFriends()\n",
    "print([u.name for u in users])"
   ]
  },
  {
   "cell_type": "code",
   "execution_count": null,
   "metadata": {},
   "outputs": [],
   "source": [
    "#Post an update on twitter\n",
    "status = api.PostUpdate('#MLIndia')"
   ]
  },
  {
   "cell_type": "code",
   "execution_count": 12,
   "metadata": {},
   "outputs": [
    {
     "name": "stdout",
     "output_type": "stream",
     "text": [
      "Printing tweets for user Dave Gershgorn\n"
     ]
    },
    {
     "name": "stdout",
     "output_type": "stream",
     "text": [
      "[u'Check out this awesome innovation! http://t.co/XLlZs0KP #accenture #innovationjockeys #yahoo #india', u'Check out this awesome innovation! http://t.co/XLlZs0KP #accenture #innovationjockeys #yahoo #india']\n"
     ]
    }
   ],
   "source": [
    "# Print tweets for a given user\n",
    "user = users[0]\n",
    "print 'Printing tweets for user ' + str(user.name)\n",
    "statuses = api.GetUserTimeline(screen_name=user)\n",
    "print([s.text for s in statuses])"
   ]
  },
  {
   "cell_type": "markdown",
   "metadata": {},
   "source": [
    "### What else you can do with the library\n",
    "\n",
    "Some of methods include\n",
    "- GetStreamFilter - Returns a filtered view of public statuses.\n",
    "- GetStreamSample - Returns a small sample of public statuses.\n",
    "- GetTrendsCurrent - Get the current top trending topics (global)\n",
    "- GetUserTimeline(user) - Fetch the sequence of public Status messages for a single user.\n",
    "- GetHomeTimeline() - Fetch a collection of the most recent Tweets and retweets posted by the authenticating user and the users they follow.\n",
    "- GetFavorites - Return a list of Status objects representing favorited tweets.\n",
    "- GetHomeTimeline - Fetch a collection of the most recent Tweets and retweets posted by the authenticating user and the users they follow.\n",
    "- GetSearch - Return twitter search results for a given term. You must specify one of term, geocode, or raw_query.\n",
    "- GetTrendsWoeid - Return the top 10 trending topics for a specific WOEID, if trending information is available for it.\n",
    "\n",
    "Read this detailed list of mtheods here [link](https://python-twitter.readthedocs.io/en/latest/twitter.html#module-twitter.api)"
   ]
  },
  {
   "cell_type": "code",
   "execution_count": 13,
   "metadata": {},
   "outputs": [
    {
     "name": "stdout",
     "output_type": "stream",
     "text": [
      "[Status(ID=842732571091984384, ScreenName=davegershgorn, Created=Fri Mar 17 13:41:16 +0000 2017, Text=u\"Silicon Valley's open-source experiment is working: Meet the West Virginia teen who's teaching himself to build AI \\n\\nhttps://t.co/PuuVQ5GFHI\"), Status(ID=842731589989752835, ScreenName=davegershgorn, Created=Fri Mar 17 13:37:22 +0000 2017, Text=u'RT @alicetruong: Michael Murphy.'), Status(ID=842701309908258817, ScreenName=davegershgorn, Created=Fri Mar 17 11:37:03 +0000 2017, Text=u'this is more a critique of tech journalism than deepmind https://t.co/ohHtiQt2n6'), Status(ID=842701232972206084, ScreenName=davegershgorn, Created=Fri Mar 17 11:36:45 +0000 2017, Text=u\"the conceit of every tech journalist is that the person/company they're profiling is different. it's rarely true. https://t.co/tmprsjJTJg\"), Status(ID=842694674133520384, ScreenName=davegershgorn, Created=Fri Mar 17 11:10:41 +0000 2017, Text=u'looks more like Neapolitan to me! https://t.co/iwt4zUMufx'), Status(ID=842566068082298884, ScreenName=davegershgorn, Created=Fri Mar 17 02:39:39 +0000 2017, Text=u'RT @dril: if your grave doesnt say \"rest in peace\" on it you are automatically drafted into the skeleton war'), Status(ID=842547271120183296, ScreenName=davegershgorn, Created=Fri Mar 17 01:24:57 +0000 2017, Text=u'RT @Reza_Zadeh: Facebook releases an interesting competitor to TensorFlow/TensorBoard. Called Visdom. https://t.co/9PqOedXFJb Supports Torc\\u2026'), Status(ID=842516043511795713, ScreenName=davegershgorn, Created=Thu Mar 16 23:20:52 +0000 2017, Text=u'i have such a cool and nerdy AI story coming next week, very excited to share with you all'), Status(ID=842515626937802757, ScreenName=davegershgorn, Created=Thu Mar 16 23:19:13 +0000 2017, Text=u\"it's 30 feet deep https://t.co/KuH1X5HGs7\"), Status(ID=842514179210842113, ScreenName=davegershgorn, Created=Thu Mar 16 23:13:28 +0000 2017, Text=u'meeting up in 2017 https://t.co/2JhyJdq1xJ'), Status(ID=842478209174245377, ScreenName=davegershgorn, Created=Thu Mar 16 20:50:32 +0000 2017, Text=u'classic washington logic https://t.co/RqfVfNgE1U'), Status(ID=842443365274775557, ScreenName=davegershgorn, Created=Thu Mar 16 18:32:04 +0000 2017, Text=u'another day, another chihuahua spin around the sun https://t.co/ATnEICNezx'), Status(ID=842416401205850112, ScreenName=davegershgorn, Created=Thu Mar 16 16:44:56 +0000 2017, Text=u'SwatchOS https://t.co/xhm2ZLehFT'), Status(ID=842415536592035841, ScreenName=davegershgorn, Created=Thu Mar 16 16:41:29 +0000 2017, Text=u'TIL John Boyega and I are the same age https://t.co/06oSWqaUQV'), Status(ID=842413537364439041, ScreenName=davegershgorn, Created=Thu Mar 16 16:33:33 +0000 2017, Text=u'Absolutely fascinating OpenAI blog, on AI developing its own language\\n\\nhttps://t.co/P2TeyAJnT9\\n\\nPaper here:\\u2026 https://t.co/UxvkKn2mL8'), Status(ID=842408590229016576, ScreenName=davegershgorn, Created=Thu Mar 16 16:13:53 +0000 2017, Text=u'RT @sokane1: Believe it or not the answer is Capri Sun https://t.co/1gnSBu14Z1'), Status(ID=842401518208880641, ScreenName=davegershgorn, Created=Thu Mar 16 15:45:47 +0000 2017, Text=u'2015 paper also tackling catastrophic forgetting, via @PopSci article from @ossolalex\\n\\nhttps://t.co/q5KTeTsIiz\\n\\nhttps://t.co/1ZcEEU9MsY'), Status(ID=842382618901516288, ScreenName=davegershgorn, Created=Thu Mar 16 14:30:41 +0000 2017, Text=u\"my trash talk is really just trying to corral teens into playing a reasonable team comp so we don't lose\"), Status(ID=842381989034504193, ScreenName=davegershgorn, Created=Thu Mar 16 14:28:11 +0000 2017, Text=u'\"we don\\'t need 4 dps.\"\\n\\n\"somebody pls tank or heal\"\\n\\n\"we don\\'t need bastion on attack\"\\n\\non repeat, forever https://t.co/6N47KvjIAm')]\n"
     ]
    }
   ],
   "source": [
    "# fetch the home timeline\n",
    "print api.GetHomeTimeline()"
   ]
  },
  {
   "cell_type": "markdown",
   "metadata": {},
   "source": [
    "### Analyze the final stats\n",
    "- Get the number of positive/ neutral and negative tweets\n",
    "- Draw bar chart and analyze the numbers"
   ]
  },
  {
   "cell_type": "markdown",
   "metadata": {},
   "source": [
    "### Install the libraries required for sentiment analysis\n",
    "- pip install textblob\n",
    "- python -m textblob.download_corpora\n",
    "\n",
    "TextBlob is actually a high level library built over top of NLTK library. First we call clean_tweet method to remove links, special characters, etc. from the tweet using some simple regex.\n",
    "Then, as we pass tweet to create a TextBlob object, following processing is done over text by textblob library:\n",
    "\n",
    "Tokenize the tweet ,i.e split words from body of text.\n",
    "Remove stopwords from the tokens.(stopwords are the commonly used words which are irrelevant in text analysis like I, am, you, are, etc.)\n",
    "Do POS( part of speech) tagging of the tokens and select only significant features/tokens like adjectives, adverbs, etc.\n",
    "Pass the tokens to a sentiment classifier which classifies the tweet sentiment as positive, negative or neutral by assigning it a polarity between -1.0 to 1.0 .\n",
    "Here is how sentiment classifier is created:\n",
    "\n",
    "TextBlob uses a Movies Reviews dataset in which reviews have already been labelled as positive or negative.\n",
    "Positive and negative features are extracted from each positive and negative review respectively.\n",
    "Training data now consists of labelled positive and negative features. This data is trained on a Naive Bayes Classifier.\n",
    "Then, we use sentiment.polarity method of TextBlob class to get the polarity of tweet between -1 to 1.\n",
    "Then, we classify polarity as:\n",
    "- positive\n",
    "- negative\n",
    "- neutral"
   ]
  },
  {
   "cell_type": "code",
   "execution_count": 132,
   "metadata": {},
   "outputs": [],
   "source": [
    "import re\n",
    "from textblob import TextBlob\n",
    "\n",
    "def clean_tweet(tweet):\n",
    "    '''\n",
    "    Utility function to clean tweet text by removing links, special characters\n",
    "    using simple regex statements.\n",
    "    '''\n",
    "    return ' '.join(re.sub(\"(@[A-Za-z0-9]+)|([^0-9A-Za-z \\t]) |(\\w+:\\/\\/\\S+)\", \" \", tweet).split())\n",
    "\n",
    "def get_tweet_sentiment(tweet):\n",
    "    '''\n",
    "    Utility function to classify sentiment of passed tweet\n",
    "    using textblob's sentiment method\n",
    "    '''\n",
    "    # create TextBlob object of passed tweet text\n",
    "    analysis = TextBlob(clean_tweet(tweet))\n",
    "    # set sentiment\n",
    "    if analysis.sentiment.polarity > 0:\n",
    "        return 'positive'\n",
    "    elif analysis.sentiment.polarity == 0:\n",
    "        return 'neutral'\n",
    "    else:\n",
    "        return 'negative'\n",
    "    \n",
    "def get_min_max(tweets):\n",
    "    ids = []\n",
    "    for tweet in tweets:\n",
    "        # print tweet\n",
    "        if type(tweet) is list:\n",
    "            tweet = tweet[0]\n",
    "        ids.append(tweet.id)\n",
    "    min_id = min(ids)\n",
    "    max_id = max(ids)\n",
    "    return min_id, max_id\n",
    "    \n",
    "def get_tweets(term, count):\n",
    "    all_tweets = []\n",
    "    max_id = 843567375765159939000000\n",
    "    #print max_id\n",
    "    loop_count = count / 100\n",
    "    for i in range(loop_count):\n",
    "        tweets = api.GetSearch(term=term, count = 100)\n",
    "        #print 'Total number of tweets found - '  +  str(len(tweets))\n",
    "        try:\n",
    "            min_id, max_id = get_min_max(tweets)\n",
    "            all_tweets = all_tweets + tweets\n",
    "        except:\n",
    "            print 'something wrong'\n",
    "            pass\n",
    "    return all_tweets\n",
    "  \n",
    "\n",
    "def get_tweets_df(tweets):\n",
    "    result = []\n",
    "    for tweet in tweets:\n",
    "        favorite_count = tweet.favorite_count\n",
    "        retweet_count = tweet.retweet_count\n",
    "        source = tweet.source\n",
    "        text = tweet.text\n",
    "        urls = tweet.urls\n",
    "        sentiment = get_tweet_sentiment(text)\n",
    "        \n",
    "        result.append({\n",
    "            #'text': base64.b64encode(text.encode('ascii', 'ignore').decode('ascii')),\n",
    "            'text': text.encode('ascii', 'ignore').decode('ascii'),\n",
    "            'sentiment': sentiment,\n",
    "            'favorite_count' : favorite_count,\n",
    "            'source' : source,\n",
    "            'retweet_count' : retweet_count,\n",
    "            'user_fav_count': tweet.user.favourites_count,\n",
    "            'user_follower_count': tweet.user.followers_count,\n",
    "            'user_friends_count': tweet.user.friends_count,\n",
    "            'user_screen_name' : tweet.user.screen_name.encode('ascii', 'ignore').decode('ascii'),\n",
    "            'user_name': tweet.user.name.encode('ascii', 'ignore').decode('ascii'),\n",
    "            'user_url': tweet.user.url\n",
    "        })\n",
    "    result_df = pd.DataFrame(result)\n",
    "    return result_df\n",
    "\n",
    "def print_tweet(tweet):\n",
    "    print '---- Printing tweet ----'\n",
    "    print tweet.favorite_count\n",
    "    print tweet.text\n",
    "    print ' --------- x --------- '"
   ]
  },
  {
   "cell_type": "markdown",
   "metadata": {},
   "source": [
    "### Fetch tweets for different political personalities"
   ]
  },
  {
   "cell_type": "code",
   "execution_count": 180,
   "metadata": {
    "collapsed": false
   },
   "outputs": [
    {
     "name": "stdout",
     "output_type": "stream",
     "text": [
      "Fetching tweets for Yogi\n"
     ]
    },
    {
     "name": "stdout",
     "output_type": "stream",
     "text": [
      "Total number of tweets fetched = 200\nFetching tweets for NAMO\n"
     ]
    },
    {
     "name": "stdout",
     "output_type": "stream",
     "text": [
      "Total number of tweets fetched = 200\nFetching tweets for AK\n"
     ]
    },
    {
     "name": "stdout",
     "output_type": "stream",
     "text": [
      "Total number of tweets fetched = 200\nFetching tweets for RG\n"
     ]
    },
    {
     "name": "stdout",
     "output_type": "stream",
     "text": [
      "Total number of tweets fetched = 200\n"
     ]
    }
   ],
   "source": [
    "print 'Fetching tweets for Yogi'\n",
    "tweets_yogi = get_tweets('Yogi Adityanath', 1000)\n",
    "print 'Total number of tweets fetched = ' + str(len(tweets))\n",
    "\n",
    "print 'Fetching tweets for NAMO'\n",
    "tweets_namo = get_tweets('Narendra Modi', 1000)\n",
    "print 'Total number of tweets fetched = ' + str(len(tweets))\n",
    "\n",
    "print 'Fetching tweets for AK'\n",
    "tweets_ak = get_tweets('Arvind Kejriwal', 1000)\n",
    "print 'Total number of tweets fetched = ' + str(len(tweets))\n",
    "\n",
    "print 'Fetching tweets for RG'\n",
    "tweets_rg = get_tweets('Rahul Gandhi', 1000)\n",
    "print 'Total number of tweets fetched = ' + str(len(tweets))\n",
    "#print tweets"
   ]
  },
  {
   "cell_type": "markdown",
   "metadata": {},
   "source": [
    "### Convert dicts into pandas data frame"
   ]
  },
  {
   "cell_type": "code",
   "execution_count": 133,
   "metadata": {},
   "outputs": [],
   "source": [
    "df_yogi = get_tweets_df(tweets_yogi)\n",
    "df_namo = get_tweets_df(tweets_namo)\n",
    "df_ak = get_tweets_df(tweets_ak)\n",
    "df_rg = get_tweets_df(tweets_rg)\n",
    "\n",
    "df_yogi.to_csv('yogi.csv')\n",
    "df_namo.to_csv('namo.csv')\n",
    "df_ak.to_csv('ak.csv')\n",
    "df_rg.to_csv('rg.csv')"
   ]
  },
  {
   "cell_type": "code",
   "execution_count": 142,
   "metadata": {
    "collapsed": false
   },
   "outputs": [
    {
     "name": "stdout",
     "output_type": "stream",
     "text": [
      "Yogi Adityanath positive tweets\n0     Congratulations to Yogi Adityanath Ji, Keshav ...\n1     Yogi Adityanath as CM is the best answer to UP...\n3     RT @sona_insan: Many Many Congratulations to U...\n20    RT @RahulKajal3: Profile of the new CM of UP. ...\n22    RT @bhs7rocks: First ministers , now bureaucra...\nName: text, dtype: object\nYogi Adityanath negative tweets\n19     RT @Ish_Bhandari: Remember when tough, bold ch...\n82     RT @Aneela_7: You know what sickens me 2 d cor...\n103    RT @Ish_Bhandari: Remember when tough, bold ch...\n105    RT @f_azhar87: @yogi_adityanath @CMOfficeUP  p...\n122    RT @Ish_Bhandari: Remember when tough, bold ch...\nName: text, dtype: object\n"
     ]
    }
   ],
   "source": [
    "# Visualize some tweets\n",
    "print 'Yogi Adityanath positive tweets'\n",
    "print df_yogi[df_yogi['sentiment'] == 'positive']['text'].head()\n",
    "\n",
    "print 'Yogi Adityanath negative tweets'\n",
    "print df_yogi[df_yogi['sentiment'] == 'negative']['text'].head()"
   ]
  },
  {
   "cell_type": "markdown",
   "metadata": {},
   "source": [
    "### Analyze the final stats\n",
    "- Get the number of positive/ neutral and negative tweets\n",
    "- Draw bar chart and analyze the numbers"
   ]
  },
  {
   "cell_type": "code",
   "execution_count": 179,
   "metadata": {},
   "outputs": [
    {
     "name": "stdout",
     "output_type": "stream",
     "text": [
      "           YOGI  NAMO   AK   RG\nsentiment                      \nnegative     58    99  290  251\nneutral     753   631  530  643\npositive    189   270  180  106\n"
     ]
    },
    {
     "data": {
      "text/plain": [
       "<matplotlib.axes._subplots.AxesSubplot at 0x1f28eb70>"
      ]
     },
     "execution_count": 179,
     "metadata": {},
     "output_type": "execute_result"
    },
    {
     "data": {
      "image/png": "[encoded data removed]",
      "text/plain": [
       "<matplotlib.figure.Figure at 0x1fb0f160>"
      ]
     },
     "metadata": {},
     "output_type": "display_data"
    }
   ],
   "source": [
    "sentiment_yogi = df_yogi.groupby(['sentiment'])[['sentiment']].count()\n",
    "sentiment_yogi.rename(columns={'sentiment': 'YOGI'}, inplace=True)\n",
    "\n",
    "sentiment_namo = df_namo.groupby(['sentiment'])[['sentiment']].count()\n",
    "sentiment_namo.rename(columns={'sentiment': 'NAMO'}, inplace=True)\n",
    "\n",
    "sentiment_ak = df_ak.groupby(['sentiment'])[['sentiment']].count()\n",
    "sentiment_ak.rename(columns={'sentiment': 'AK'}, inplace=True)\n",
    "\n",
    "sentiment_rg = df_rg.groupby(['sentiment'])[['sentiment']].count()\n",
    "sentiment_rg.rename(columns={'sentiment': 'RG'}, inplace=True)\n",
    "\n",
    "#Concatenate the results df\n",
    "stats = pd.concat([sentiment_yogi, sentiment_namo, sentiment_ak, \n",
    "                   sentiment_rg] ,axis=1, join='inner')\n",
    "print stats\n",
    "stats.plot(kind='bar')"
   ]
  },
  {
   "cell_type": "markdown",
   "metadata": {},
   "source": [
    "### Next steps\n",
    "- Analyze the data in excel\n",
    "- Remove redundant tweets/ retweets (count them only once)\n",
    "- Since its the users who are politically inclined, we can instead analyze users\n",
    "- What else, look at data and figure out"
   ]
  },
  {
   "cell_type": "code",
   "execution_count": null,
   "metadata": {},
   "outputs": [],
   "source": [
    ""
   ]
  }
 ],
 "metadata": {
  "kernelspec": {
   "display_name": "Python 2",
   "language": "python",
   "name": "python2"
  },
  "language_info": {
   "codemirror_mode": {
    "name": "ipython",
    "version": 2.0
   },
   "file_extension": ".py",
   "mimetype": "text/x-python",
   "name": "python",
   "nbconvert_exporter": "python",
   "pygments_lexer": "ipython2",
   "version": "2.7.6"
  }
 },
 "nbformat": 4,
 "nbformat_minor": 0
}