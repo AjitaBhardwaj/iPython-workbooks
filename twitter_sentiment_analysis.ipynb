{
 "cells": [
  {
   "cell_type": "markdown",
   "metadata": {
    "collapsed": true
   },
   "source": [
    "### Import all necessary libraries"
   ]
  },
  {
   "cell_type": "code",
   "execution_count": 1,
   "metadata": {},
   "outputs": [],
   "source": [
    "from twitter import Twitter, OAuth, TwitterHTTPError, TwitterStream\n",
    "import json"
   ]
  },
  {
   "cell_type": "markdown",
   "metadata": {},
   "source": [
    "### Get access tokens\n",
    "Access tokens are like user name and password combined in one long string. This string is used to authenticate a user or application accessing a service (twitter in this case).\n",
    "\n",
    "Twitter uses oAuth which is an open standard for authorization.\n",
    "\n",
    "**Steps to generate access tokens**\n",
    "- Open [https://apps.twitter.com/](https://apps.twitter.com/)\n",
    "- Click “Create New App”\n",
    "- Fill out the form, agree to the terms, and click “Create your Twitter application”\n",
    "- Click on “Keys and Access Tokens” tab, and copy your “API key” and “API secret”. \n",
    "- Scroll down and click “Create my access token”, and copy your “Access token” and “Access token secret”.\n",
    "- Access Level -> Read, write, and direct messages (modify app permissions)\n",
    "- https://apps.twitter.com/app/13519590/keys\n",
    "\n",
    "*API paremeters*\n",
    "- [http://socialmedia-class.org/assets/img/raffi-krikorian-map-of-a-tweet.png](http://socialmedia-class.org/assets/img/raffi-krikorian-map-of-a-tweet.png)"
   ]
  },
  {
   "cell_type": "code",
   "execution_count": 7,
   "metadata": {},
   "outputs": [],
   "source": [
    "# Variables that contains the user credentials to access Twitter API\n",
    "ACCESS_TOKEN = '113707618-Hcynv2DrvuSs7ZhDd4k3mjW3xrnIQspYqnX9fGZq'\n",
    "ACCESS_SECRET = '4dEvHrT7l6pIZbegTef8cOxpC3RkyWuOXoJXmGbJrtTXS'\n",
    "CONSUMER_KEY = 'cLMfRK5UwlxPEKSGtOHpIMCxO'\n",
    "CONSUMER_SECRET = 'c5fr8Ezh8iTGK2LD8fcMucUl70Tr3lA0rh737UhGVvgCwhB0oP'\n",
    "oauth = OAuth(ACCESS_TOKEN, ACCESS_SECRET, CONSUMER_KEY, CONSUMER_SECRET)"
   ]
  },
  {
   "cell_type": "markdown",
   "metadata": {},
   "source": [
    "### Simple twitter streaming API access\n",
    "\n",
    "[tweetstream](https://pypi.python.org/pypi/tweetstream) is used to access Twitter’s streaming API.\n",
    "It provides these two classes\n",
    "- SampleStream - delivers a sample of all tweets\n",
    "- FilterStream - delivers tweets that match one or more criteria"
   ]
  },
  {
   "cell_type": "code",
   "execution_count": 8,
   "metadata": {},
   "outputs": [],
   "source": [
    "# Initiate the connection to Twitter Streaming API\n",
    "twitter_stream = TwitterStream(auth=oauth)"
   ]
  },
  {
   "cell_type": "code",
   "execution_count": null,
   "metadata": {},
   "outputs": [],
   "source": [
    ""
   ]
  }
 ],
 "metadata": {
  "kernelspec": {
   "display_name": "Python 2",
   "language": "python",
   "name": "python2"
  },
  "language_info": {
   "codemirror_mode": {
    "name": "ipython",
    "version": 2.0
   },
   "file_extension": ".py",
   "mimetype": "text/x-python",
   "name": "python",
   "nbconvert_exporter": "python",
   "pygments_lexer": "ipython2",
   "version": "2.7.6"
  }
 },
 "nbformat": 4,
 "nbformat_minor": 0
}