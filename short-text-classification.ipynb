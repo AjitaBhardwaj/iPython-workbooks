{
 "cells": [
  {
   "cell_type": "markdown",
   "metadata": {
    "collapsed": true
   },
   "source": [
    "## Setup system\n",
    "\n",
    "\n",
    "### Setup Worrd2Vec\n",
    "- pip intsall gensim\n",
    "- Download pretrained google word2vec model [link](https://drive.google.com/uc?id=0B7XkCwpI5KDYNlNUTTlSS21pQmM&export=download)\n",
    "\n",
    "### Setup TensorFlow and Keras\n",
    "- Install Theano [link](http://deeplearning.net/software/theano/install.html#install)\n",
    "- pip install theano\n",
    "- \n",
    "\n",
    "### Keras (link)[https://keras.io/]\n",
    "- High-level neural networks API, to abstract either TensorFlow or Theano.\n",
    "- pip install keras\n",
    "\n",
    "### Changing keras backend from tensorflow to theano (link)[https://keras.io/backend/]\n",
    "- Run keras once -> from keras.models import Sequential\n",
    "- Open $HOME/.keras/keras.json\n",
    "- Change \"backend\": \"tensorflow\" -> \"backend\": \"theano\"\n",
    "- Run keras again -> from keras.models import Sequential\n",
    "- You should see a message -> Using Theano backend."
   ]
  },
  {
   "cell_type": "code",
   "execution_count": null,
   "metadata": {},
   "outputs": [],
   "source": [
    "from gensim.models import Word2Vec\n",
    "wvmodel = Word2Vec.load_word2vec_format('C:\\Users\\Gursimar\\PyCharmProjects/GoogleNews-vectors-negative300.bin.gz', binary=True)"
   ]
  },
  {
   "cell_type": "markdown",
   "metadata": {},
   "source": [
    "### Install pyShortTextCategorization\n",
    "- pip install -U shorttext\n",
    "- Repository [link](https://github.com/stephenhky/PyShortTextCategorization)\n",
    "- Documentation - [link](https://pythonhosted.org/shorttext/)"
   ]
  },
  {
   "cell_type": "code",
   "execution_count": null,
   "metadata": {},
   "outputs": [],
   "source": [
    ""
   ]
  },
  {
   "cell_type": "code",
   "execution_count": null,
   "metadata": {},
   "outputs": [],
   "source": [
    ""
   ]
  }
 ],
 "metadata": {
  "kernelspec": {
   "display_name": "Python 2",
   "language": "python",
   "name": "python2"
  },
  "language_info": {
   "codemirror_mode": {
    "name": "ipython",
    "version": 2.0
   },
   "file_extension": ".py",
   "mimetype": "text/x-python",
   "name": "python",
   "nbconvert_exporter": "python",
   "pygments_lexer": "ipython2",
   "version": "2.7.6"
  }
 },
 "nbformat": 4,
 "nbformat_minor": 0
}